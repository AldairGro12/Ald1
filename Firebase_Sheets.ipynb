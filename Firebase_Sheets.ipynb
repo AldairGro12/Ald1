{
  "nbformat": 4,
  "nbformat_minor": 0,
  "metadata": {
    "colab": {
      "provenance": [],
      "mount_file_id": "1TiLJVIJEyUK7UONYckmoN-yeRiJurtlS",
      "authorship_tag": "ABX9TyPmWLO2y6siNWYgCHwFB6m5",
      "include_colab_link": true
    },
    "kernelspec": {
      "name": "python3",
      "display_name": "Python 3"
    },
    "language_info": {
      "name": "python"
    }
  },
  "cells": [
    {
      "cell_type": "markdown",
      "metadata": {
        "id": "view-in-github",
        "colab_type": "text"
      },
      "source": [
        "<a href=\"https://colab.research.google.com/github/AldairGro12/Ald1/blob/main/Firebase_Sheets.ipynb\" target=\"_parent\"><img src=\"https://colab.research.google.com/assets/colab-badge.svg\" alt=\"Open In Colab\"/></a>"
      ]
    },
    {
      "cell_type": "code",
      "source": [
        "#Dar acceso a documentos de Drive\n",
        "from google.colab import drive\n",
        "drive.mount('/content/drive')"
      ],
      "metadata": {
        "colab": {
          "base_uri": "https://localhost:8080/"
        },
        "id": "yKdRwX_RcusU",
        "outputId": "a67f3858-50be-4252-c42a-720db3a7b299"
      },
      "execution_count": null,
      "outputs": [
        {
          "output_type": "stream",
          "name": "stdout",
          "text": [
            "Drive already mounted at /content/drive; to attempt to forcibly remount, call drive.mount(\"/content/drive\", force_remount=True).\n"
          ]
        }
      ]
    },
    {
      "cell_type": "code",
      "execution_count": null,
      "metadata": {
        "colab": {
          "base_uri": "https://localhost:8080/"
        },
        "id": "QgWMRefnjgdk",
        "outputId": "df856e19-ae4b-4f22-86dd-535034972aff"
      },
      "outputs": [
        {
          "output_type": "execute_result",
          "data": {
            "text/plain": [
              "<firebase_admin.App at 0x7895c659ece0>"
            ]
          },
          "metadata": {},
          "execution_count": 3
        }
      ],
      "source": [
        "# Acceder y autenticar la base de datos en Firebase\n",
        "\n",
        "import firebase_admin\n",
        "from firebase_admin import credentials\n",
        "\n",
        "cred = credentials.Certificate(\"/content/drive/MyDrive/mexxonproto-firebase-adminsdk-cgv2o-a2eea748e6.json\")\n",
        "firebase_admin.initialize_app(cred)\n"
      ]
    },
    {
      "cell_type": "code",
      "source": [
        "# Librerias necesarias\n",
        "\n",
        "import pandas as pd\n",
        "from firebase_admin import firestore"
      ],
      "metadata": {
        "colab": {
          "base_uri": "https://localhost:8080/"
        },
        "id": "n0dU67ySj7NB",
        "outputId": "5ee4f330-c382-466c-bd4e-fde0c412ba03"
      },
      "execution_count": null,
      "outputs": [
        {
          "output_type": "stream",
          "name": "stdout",
          "text": [
            "{'litroseth2': 0, 'fotoeth': 'https://firebasestorage.googleapis.com/v0/b/mexxonproto.appspot.com/o/default_img%2Fna_2.png?alt=media&token=fa62996e-0b14-4232-9e1a-8e05d28bc7db', 'fotonafta': 'https://firebasestorage.googleapis.com/v0/b/mexxonproto.appspot.com/o/default_img%2Fna_2.png?alt=media&token=fa62996e-0b14-4232-9e1a-8e05d28bc7db', 'fotosello2': 'https://firebasestorage.googleapis.com/v0/b/mexxonproto.appspot.com/o/default_img%2Fna_2.png?alt=media&token=fa62996e-0b14-4232-9e1a-8e05d28bc7db', 'sello2': 'NA', 'litrosnafta': 0, 'sello3': 'NA', 'fotodiesel2': 'https://firebasestorage.googleapis.com/v0/b/mexxonproto.appspot.com/o/default_img%2Fna_2.png?alt=media&token=fa62996e-0b14-4232-9e1a-8e05d28bc7db', 'tracto1': 'T21', 'tracto2': 'T22', 'litroseth': 0, 'cdc': 'NOV086', 'fotogas2': 'https://firebasestorage.googleapis.com/v0/b/mexxonproto.appspot.com/o/default_img%2Fna_2.png?alt=media&token=fa62996e-0b14-4232-9e1a-8e05d28bc7db', 'litrosnafta2': 0, 'fotonafta2': 'https://firebasestorage.googleapis.com/v0/b/mexxonproto.appspot.com/o/default_img%2Fna_2.png?alt=media&token=fa62996e-0b14-4232-9e1a-8e05d28bc7db', 'fotosello3': 'https://firebasestorage.googleapis.com/v0/b/mexxonproto.appspot.com/o/default_img%2Fna_2.png?alt=media&token=fa62996e-0b14-4232-9e1a-8e05d28bc7db', 'fotosisa': 'https://firebasestorage.googleapis.com/v0/b/mexxonproto.appspot.com/o/default_img%2Fna_2.png?alt=media&token=fa62996e-0b14-4232-9e1a-8e05d28bc7db', 'litrosgas2': 0, 'unidad': 'T099', 'litrosgas': 0, 'litrosotro': 0, 'sello1': 'NA', 'incidencias': ['Incidencias: '], 'sisa': 'NA', 'nombreoperador': 'aldair glz', 'fotootro': 'https://firebasestorage.googleapis.com/v0/b/mexxonproto.appspot.com/o/default_img%2Fna_2.png?alt=media&token=fa62996e-0b14-4232-9e1a-8e05d28bc7db', 'fecha': DatetimeWithNanoseconds(2024, 11, 15, 19, 43, 57, 693000, tzinfo=datetime.timezone.utc), 'litrosdiesel': 8888, 'litrosdiesel2': 7777, 'fotodiesel': 'https://storage.googleapis.com/flutterflow-io-6f20.appspot.com/projects/mexxon-kizksv/assets/dn8hn32zq9oe/na.jpg', 'fotogas': 'https://storage.googleapis.com/flutterflow-io-6f20.appspot.com/projects/mexxon-kizksv/assets/dn8hn32zq9oe/na.jpg', 'fotoeth2': 'https://firebasestorage.googleapis.com/v0/b/mexxonproto.appspot.com/o/default_img%2Fna_2.png?alt=media&token=fa62996e-0b14-4232-9e1a-8e05d28bc7db', 'fotooctanaje': 'https://firebasestorage.googleapis.com/v0/b/mexxonproto.appspot.com/o/default_img%2Fna_2.png?alt=media&token=fa62996e-0b14-4232-9e1a-8e05d28bc7db', 'fotosello4': 'https://firebasestorage.googleapis.com/v0/b/mexxonproto.appspot.com/o/default_img%2Fna_2.png?alt=media&token=fa62996e-0b14-4232-9e1a-8e05d28bc7db', 'fotosello1': 'https://firebasestorage.googleapis.com/v0/b/mexxonproto.appspot.com/o/default_img%2Fna_2.png?alt=media&token=fa62996e-0b14-4232-9e1a-8e05d28bc7db', 'userid': 'sRqAGnVgcxRc3WBjbtCOkrOoZF32', 'octanaje': 'NA', 'sello4': 'NA', 'origen': 'MATAMOROS', 'fototracto1': 'https://firebasestorage.googleapis.com/v0/b/mexxonproto.appspot.com/o/default_img%2Fna_2.png?alt=media&token=fa62996e-0b14-4232-9e1a-8e05d28bc7db', 'fotounidad': 'https://firebasestorage.googleapis.com/v0/b/mexxonproto.appspot.com/o/default_img%2Fna_2.png?alt=media&token=fa62996e-0b14-4232-9e1a-8e05d28bc7db', 'fototracto2': 'https://firebasestorage.googleapis.com/v0/b/mexxonproto.appspot.com/o/default_img%2Fna_2.png?alt=media&token=fa62996e-0b14-4232-9e1a-8e05d28bc7db'}\n",
            "{'litroseth2': 0, 'fotoeth': 'https://firebasestorage.googleapis.com/v0/b/mexxonproto.appspot.com/o/default_img%2Fna_2.png?alt=media&token=fa62996e-0b14-4232-9e1a-8e05d28bc7db', 'fotonafta': 'https://firebasestorage.googleapis.com/v0/b/mexxonproto.appspot.com/o/default_img%2Fna_2.png?alt=media&token=fa62996e-0b14-4232-9e1a-8e05d28bc7db', 'fotosello2': 'https://firebasestorage.googleapis.com/v0/b/mexxonproto.appspot.com/o/default_img%2Fna_2.png?alt=media&token=fa62996e-0b14-4232-9e1a-8e05d28bc7db', 'sello2': 'NA', 'litrosnafta': 0, 'sello3': 'NA', 'fotodiesel2': 'https://firebasestorage.googleapis.com/v0/b/mexxonproto.appspot.com/o/default_img%2Fna_2.png?alt=media&token=fa62996e-0b14-4232-9e1a-8e05d28bc7db', 'tracto1': 'T1', 'tracto2': 'T2', 'litroseth': 0, 'cdc': 'NOV002', 'fotogas2': 'https://firebasestorage.googleapis.com/v0/b/mexxonproto.appspot.com/o/default_img%2Fna_2.png?alt=media&token=fa62996e-0b14-4232-9e1a-8e05d28bc7db', 'litrosnafta2': 0, 'fotonafta2': 'https://firebasestorage.googleapis.com/v0/b/mexxonproto.appspot.com/o/default_img%2Fna_2.png?alt=media&token=fa62996e-0b14-4232-9e1a-8e05d28bc7db', 'fotosello3': 'https://firebasestorage.googleapis.com/v0/b/mexxonproto.appspot.com/o/default_img%2Fna_2.png?alt=media&token=fa62996e-0b14-4232-9e1a-8e05d28bc7db', 'fotosisa': 'https://firebasestorage.googleapis.com/v0/b/mexxonproto.appspot.com/o/default_img%2Fna_2.png?alt=media&token=fa62996e-0b14-4232-9e1a-8e05d28bc7db', 'litrosgas2': 0, 'unidad': 'B1008', 'litrosgas': 0, 'litrosotro': 0, 'sello1': 'NA', 'incidencias': ['Incidencias: '], 'sisa': 'NA', 'nombreoperador': 'ALDAIR', 'fotootro': 'https://firebasestorage.googleapis.com/v0/b/mexxonproto.appspot.com/o/default_img%2Fna_2.png?alt=media&token=fa62996e-0b14-4232-9e1a-8e05d28bc7db', 'fecha': DatetimeWithNanoseconds(2024, 11, 15, 19, 6, 39, 952000, tzinfo=datetime.timezone.utc), 'litrosdiesel': 0, 'litrosdiesel2': 0, 'fotodiesel': 'https://storage.googleapis.com/flutterflow-io-6f20.appspot.com/projects/mexxon-kizksv/assets/dn8hn32zq9oe/na.jpg', 'fotogas': 'https://storage.googleapis.com/flutterflow-io-6f20.appspot.com/projects/mexxon-kizksv/assets/dn8hn32zq9oe/na.jpg', 'fotoeth2': 'https://firebasestorage.googleapis.com/v0/b/mexxonproto.appspot.com/o/default_img%2Fna_2.png?alt=media&token=fa62996e-0b14-4232-9e1a-8e05d28bc7db', 'fotooctanaje': 'https://firebasestorage.googleapis.com/v0/b/mexxonproto.appspot.com/o/default_img%2Fna_2.png?alt=media&token=fa62996e-0b14-4232-9e1a-8e05d28bc7db', 'fotosello4': 'https://firebasestorage.googleapis.com/v0/b/mexxonproto.appspot.com/o/default_img%2Fna_2.png?alt=media&token=fa62996e-0b14-4232-9e1a-8e05d28bc7db', 'fotosello1': 'https://firebasestorage.googleapis.com/v0/b/mexxonproto.appspot.com/o/default_img%2Fna_2.png?alt=media&token=fa62996e-0b14-4232-9e1a-8e05d28bc7db', 'userid': 'sRqAGnVgcxRc3WBjbtCOkrOoZF32', 'octanaje': 'NA', 'sello4': 'NA', 'origen': 'REYNOSA', 'fototracto1': 'https://firebasestorage.googleapis.com/v0/b/mexxonproto.appspot.com/o/default_img%2Fna_2.png?alt=media&token=fa62996e-0b14-4232-9e1a-8e05d28bc7db', 'fotounidad': 'https://firebasestorage.googleapis.com/v0/b/mexxonproto.appspot.com/o/users%2FsRqAGnVgcxRc3WBjbtCOkrOoZF32%2Fuploads%2F1731697617411000.jpeg?alt=media&token=07190733-c98b-4e49-b0e9-40209da76b4d', 'fototracto2': 'https://firebasestorage.googleapis.com/v0/b/mexxonproto.appspot.com/o/default_img%2Fna_2.png?alt=media&token=fa62996e-0b14-4232-9e1a-8e05d28bc7db'}\n",
            "{'litroseth2': 0, 'fotoeth': 'https://firebasestorage.googleapis.com/v0/b/mexxonproto.appspot.com/o/default_img%2Fna_2.png?alt=media&token=fa62996e-0b14-4232-9e1a-8e05d28bc7db', 'fotonafta': 'https://firebasestorage.googleapis.com/v0/b/mexxonproto.appspot.com/o/default_img%2Fna_2.png?alt=media&token=fa62996e-0b14-4232-9e1a-8e05d28bc7db', 'fotosello2': 'https://firebasestorage.googleapis.com/v0/b/mexxonproto.appspot.com/o/default_img%2Fna_2.png?alt=media&token=fa62996e-0b14-4232-9e1a-8e05d28bc7db', 'sello2': 'NA', 'litrosnafta': 0, 'sello3': 'NA', 'fotodiesel2': 'https://firebasestorage.googleapis.com/v0/b/mexxonproto.appspot.com/o/default_img%2Fna_2.png?alt=media&token=fa62996e-0b14-4232-9e1a-8e05d28bc7db', 'tracto1': 'TANQUE 3', 'tracto2': 'TANQ 2', 'litroseth': 0, 'cdc': 'NOV987', 'fotogas2': 'https://firebasestorage.googleapis.com/v0/b/mexxonproto.appspot.com/o/default_img%2Fna_2.png?alt=media&token=fa62996e-0b14-4232-9e1a-8e05d28bc7db', 'litrosnafta2': 0, 'fotonafta2': 'https://firebasestorage.googleapis.com/v0/b/mexxonproto.appspot.com/o/default_img%2Fna_2.png?alt=media&token=fa62996e-0b14-4232-9e1a-8e05d28bc7db', 'fotosello3': 'https://firebasestorage.googleapis.com/v0/b/mexxonproto.appspot.com/o/default_img%2Fna_2.png?alt=media&token=fa62996e-0b14-4232-9e1a-8e05d28bc7db', 'fotosisa': 'https://firebasestorage.googleapis.com/v0/b/mexxonproto.appspot.com/o/default_img%2Fna_2.png?alt=media&token=fa62996e-0b14-4232-9e1a-8e05d28bc7db', 'litrosgas2': 0, 'unidad': 'ROSDEL T190', 'litrosgas': 0, 'litrosotro': 0, 'sello1': 'NA', 'incidencias': ['Incidencias: '], 'sisa': 'NA', 'nombreoperador': 'GERARDO', 'fotootro': 'https://firebasestorage.googleapis.com/v0/b/mexxonproto.appspot.com/o/default_img%2Fna_2.png?alt=media&token=fa62996e-0b14-4232-9e1a-8e05d28bc7db', 'fecha': DatetimeWithNanoseconds(2024, 11, 15, 19, 4, 52, 216000, tzinfo=datetime.timezone.utc), 'litrosdiesel': 0, 'litrosdiesel2': 0, 'fotodiesel': 'https://storage.googleapis.com/flutterflow-io-6f20.appspot.com/projects/mexxon-kizksv/assets/dn8hn32zq9oe/na.jpg', 'fotogas': 'https://storage.googleapis.com/flutterflow-io-6f20.appspot.com/projects/mexxon-kizksv/assets/dn8hn32zq9oe/na.jpg', 'fotoeth2': 'https://firebasestorage.googleapis.com/v0/b/mexxonproto.appspot.com/o/default_img%2Fna_2.png?alt=media&token=fa62996e-0b14-4232-9e1a-8e05d28bc7db', 'fotooctanaje': 'https://firebasestorage.googleapis.com/v0/b/mexxonproto.appspot.com/o/default_img%2Fna_2.png?alt=media&token=fa62996e-0b14-4232-9e1a-8e05d28bc7db', 'fotosello4': 'https://firebasestorage.googleapis.com/v0/b/mexxonproto.appspot.com/o/default_img%2Fna_2.png?alt=media&token=fa62996e-0b14-4232-9e1a-8e05d28bc7db', 'fotosello1': 'https://firebasestorage.googleapis.com/v0/b/mexxonproto.appspot.com/o/default_img%2Fna_2.png?alt=media&token=fa62996e-0b14-4232-9e1a-8e05d28bc7db', 'userid': 'sRqAGnVgcxRc3WBjbtCOkrOoZF32', 'octanaje': 'NA', 'sello4': 'NA', 'origen': 'SLP', 'fototracto1': 'https://firebasestorage.googleapis.com/v0/b/mexxonproto.appspot.com/o/users%2FsRqAGnVgcxRc3WBjbtCOkrOoZF32%2Fuploads%2F1731697558699000.jpeg?alt=media&token=0f067410-2cb8-4629-9f98-7d9de375f7d9', 'fotounidad': 'https://firebasestorage.googleapis.com/v0/b/mexxonproto.appspot.com/o/default_img%2Fna_2.png?alt=media&token=fa62996e-0b14-4232-9e1a-8e05d28bc7db', 'fototracto2': 'https://firebasestorage.googleapis.com/v0/b/mexxonproto.appspot.com/o/default_img%2Fna_2.png?alt=media&token=fa62996e-0b14-4232-9e1a-8e05d28bc7db'}\n"
          ]
        }
      ]
    },
    {
      "cell_type": "code",
      "source": [
        "#Permisos para leer y escribir archivos en formato drive\n",
        "\n",
        "from google.colab import auth\n",
        "auth.authenticate_user()\n",
        "import gspread as gs\n",
        "from gspread_dataframe import get_as_dataframe, set_with_dataframe\n",
        "\n",
        "from google.auth import default\n",
        "creds, _=default()\n",
        "gc = gs.authorize(creds)\n",
        "\n",
        "\n"
      ],
      "metadata": {
        "id": "Ih3LyfihyTPT"
      },
      "execution_count": null,
      "outputs": []
    },
    {
      "cell_type": "code",
      "source": [
        "#Inicializamos en forma de lista  las variables que necesitamos\n",
        "\n",
        "cdc=[]\n",
        "operador=[]\n",
        "origen=[]\n",
        "diesel=[]\n",
        "gas=[]\n",
        "nafta=[]\n",
        "eth=[]\n",
        "diesel2=[]\n",
        "gas2=[]\n",
        "nafta2=[]\n",
        "eth2=[]\n",
        "sello1=[]\n",
        "sello2=[]\n",
        "sello3=[]\n",
        "sello4=[]\n",
        "unidad=[]\n",
        "tq1=[]\n",
        "tq2=[]\n",
        "sisa=[]\n",
        "fecha=[]\n",
        "incidencias=[]\n",
        "id=[]\n",
        "\n",
        "#Accedemos al contenido de a base de datos en este caso nuestros datos se encuentran en la colección 'Cargas'\n",
        "\n",
        "db = firestore.client()\n",
        "\n",
        "test_db = db.collection('Cargas')\n",
        "\n",
        "docs = test_db.stream()\n",
        "\n",
        "# Se las variables se cargan en un diccionario llamado doc_data carga por carga, el dato de la carga actual se irá añadiendo\n",
        "# a las variables en forma de lista para posteriormente anexar todo en un solo DataFrame (cargas)\n",
        "\n",
        "for doc in docs:\n",
        "  doc_data = doc.to_dict()\n",
        "  cdc.append(doc_data[\"cdc\"])\n",
        "  operador.append(doc_data[\"nombreoperador\"])\n",
        "  unidad.append(doc_data[\"unidad\"])\n",
        "  gas.append(doc_data[\"litrosgas\"])\n",
        "  diesel.append(doc_data[\"litrosdiesel\"])\n",
        "  nafta.append(doc_data[\"litrosnafta\"])\n",
        "  eth.append(doc_data[\"litroseth\"])\n",
        "  gas2.append(doc_data[\"litrosgas2\"])\n",
        "  diesel2.append(doc_data[\"litrosdiesel2\"])\n",
        "  nafta2.append(doc_data[\"litrosnafta2\"])\n",
        "  eth2.append(doc_data[\"litroseth2\"])\n",
        "  sello1.append(doc_data[\"sello1\"])\n",
        "  sello2.append(doc_data[\"sello2\"])\n",
        "  sello3.append(doc_data[\"sello3\"])\n",
        "  sello4.append(doc_data[\"sello4\"])\n",
        "  tq1.append(doc_data[\"tracto1\"])\n",
        "  tq2.append(doc_data[\"tracto2\"])\n",
        "  sisa.append(doc_data[\"sisa\"])\n",
        "  fecha.append(doc_data[\"fecha\"])\n",
        "  origen.append(doc_data[\"origen\"])\n",
        "  incidencias.append(doc_data[\"incidencias\"])\n",
        "  id.append(doc_data[\"userid\"])\n",
        "\n",
        "  cargas = pd.DataFrame(\n",
        "    {'ORIGEN': origen,\n",
        " 'FECHA': fecha,\n",
        " 'FOLIO': cdc,\n",
        " 'DIESEL TQ1': diesel,\n",
        " 'DIESEL TQ2': diesel2,\n",
        " 'GASOLINA TQ1': gas,\n",
        " 'GASOLINA TQ2': gas2,\n",
        " 'NAFTA TQ1': nafta,\n",
        " 'NAFTA TQ2': nafta2,\n",
        " 'ETHANOL TQ1': eth,\n",
        " 'ETHANOL TQ2': eth2,\n",
        " 'UNIDAD': unidad,\n",
        " 'TQ1': tq1,\n",
        " 'TQ2': tq2,\n",
        " 'SELLO2': sello2,\n",
        " 'SELLO1': sello1,\n",
        " 'SELLO2': sello2,\n",
        " 'SELLO3': sello3,\n",
        " 'SELLO4': sello4,\n",
        " 'OPERADOR': operador,\n",
        " 'INCIDENCIAS': incidencias\n",
        "     })\n",
        "\n",
        "#Accede a la Hoja1 del documento CARGAS_PRUEBA  que tenemos previamente almacenado en Drive\n",
        "# y pasa la información del DataFrame 'cargas'\n",
        "worksheet = gc.open(\"CARGAS_PRUEBA\").sheet1\n",
        "\n",
        "set_with_dataframe(worksheet, cargas)\n",
        "\n",
        "df2 = get_as_dataframe(worksheet)"
      ],
      "metadata": {
        "id": "ey9Fxy19zjCk"
      },
      "execution_count": null,
      "outputs": []
    },
    {
      "cell_type": "code",
      "source": [
        "cargas.to_csv('/content/drive/MyDrive/pruebacdc.csv')"
      ],
      "metadata": {
        "id": "UJD9McdIEUx1"
      },
      "execution_count": null,
      "outputs": []
    },
    {
      "cell_type": "code",
      "source": [],
      "metadata": {
        "id": "vH7Z6kHtLNzC"
      },
      "execution_count": null,
      "outputs": []
    }
  ]
}